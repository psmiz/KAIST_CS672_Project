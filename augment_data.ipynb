{
 "cells": [
  {
   "cell_type": "code",
   "execution_count": 22,
   "metadata": {},
   "outputs": [],
   "source": [
    "from itertools import product\n",
    "import json\n",
    "import os\n",
    "\n",
    "from openai import OpenAI\n",
    "from pydantic import BaseModel\n",
    "with open('openai_api', 'r') as f:\n",
    "    api_key = f.readline().strip()"
   ]
  },
  {
   "cell_type": "markdown",
   "metadata": {},
   "source": [
    "## Alphabetization"
   ]
  },
  {
   "cell_type": "markdown",
   "metadata": {},
   "source": [
    "Statistics of Alphabetization for reference:"
   ]
  },
  {
   "cell_type": "code",
   "execution_count": 2,
   "metadata": {},
   "outputs": [
    {
     "name": "stdout",
     "output_type": "stream",
     "text": [
      "train_sup: 40000\n",
      "train_ppo_sampled: 10000\n",
      "test_sup: 2000\n",
      "test_ppo_sampled: 1000\n",
      "dev_sup: 2000\n",
      "dev_ppo_sampled: 1000\n"
     ]
    }
   ],
   "source": [
    "alphabetization = {}\n",
    "for subset, stage in product(['train', 'test', 'dev'], ['sup', 'ppo_sampled']):\n",
    "    with open(f'./Alphabetization/{subset}_{stage}.jsonl', 'r') as f:\n",
    "        alphabetization[f'{subset}_{stage}'] = [json.loads(line) for line in f.readlines()]\n",
    "    print(f'{subset}_{stage}: {len(alphabetization[f\"{subset}_{stage}\"])}')"
   ]
  },
  {
   "cell_type": "markdown",
   "metadata": {},
   "source": [
    "## MATH RL4F"
   ]
  },
  {
   "cell_type": "code",
   "execution_count": 74,
   "metadata": {},
   "outputs": [
    {
     "name": "stdout",
     "output_type": "stream",
     "text": [
      "algebra_train: 1744\n",
      "algebra_test: 1187\n",
      "prealgebra_train: 1205\n",
      "prealgebra_test: 871\n",
      "intermediate_algebra_train: 1295\n",
      "intermediate_algebra_test: 903\n"
     ]
    }
   ],
   "source": [
    "MATH = {}\n",
    "for subject in ['algebra', 'prealgebra', 'intermediate_algebra']:\n",
    "    MATH[subject] = {}\n",
    "    for subset in ['train', 'test']:\n",
    "        directory = f'MATH/{subset}/{subject}/'\n",
    "        MATH[subject][subset] = [\n",
    "            json.load(open(directory+p, 'r')) for p in os.listdir(directory)\n",
    "            ]\n",
    "        print(f'{subject}_{subset}: {len(MATH[subject][subset])}')"
   ]
  },
  {
   "cell_type": "code",
   "execution_count": null,
   "metadata": {},
   "outputs": [
    {
     "name": "stdout",
     "output_type": "stream",
     "text": [
      "Total data size: 7205\n"
     ]
    }
   ],
   "source": [
    "print(f\"Total data size: {sum(len(MATH[subject][subset]) for subject in MATH for subset in MATH[subject])}\")"
   ]
  },
  {
   "cell_type": "markdown",
   "metadata": {},
   "source": [
    "Format of sup:\n",
    "\n",
    "```\n",
    "{\"text\": \"problem statement ||| attempt\", \"summary\": \"critique\"}\n",
    "```\n",
    "\n",
    "Format of ppo:\n",
    "\n",
    "```\n",
    "{\"text\": \"problem statement ||| attempt\", \"summary\": \"correct answer\"}\n",
    "```\n",
    "\n",
    "Current format of MATH:\n",
    "```\n",
    "{\"problem\": \"problem statement\", \"level\": \"level\", \"type\": \"subject\", \"solution\": \"solution\"}\n",
    "```"
   ]
  },
  {
   "cell_type": "code",
   "execution_count": 68,
   "metadata": {},
   "outputs": [],
   "source": [
    "# split the data into train, dev, and test and sup, ppo_sampled\n",
    "# we will use len(train) - len(test) as the number of samples for dev set\n",
    "\n",
    "# we first make the train, dev, test split\n",
    "MATH_SPLIT = {}\n",
    "for subject in ['algebra', 'counting_and_probability', 'number_theory']:\n",
    "    MATH_SPLIT[subject] = {}\n",
    "    n_train, n_test, n_dev = len(MATH[subject]['test']), len(MATH[subject]['test']), len(MATH[subject]['train']) - len(MATH[subject]['test'])\n",
    "    MATH_SPLIT[subject]['train_sup'] = MATH[subject]['train'][:n_train//2]\n",
    "    MATH_SPLIT[subject]['train_ppo_sampled'] = MATH[subject]['train'][n_train//2:n_train]\n",
    "    MATH_SPLIT[subject]['test_sup'] = MATH[subject]['test'][:n_test//2]\n",
    "    MATH_SPLIT[subject]['test_ppo_sampled'] = MATH[subject]['test'][n_test//2:]\n",
    "    MATH_SPLIT[subject]['dev_sup'] = MATH[subject]['train'][:n_dev//2]\n",
    "    MATH_SPLIT[subject]['dev_ppo_sampled'] = MATH[subject]['train'][n_dev//2:n_dev]"
   ]
  },
  {
   "cell_type": "code",
   "execution_count": 51,
   "metadata": {},
   "outputs": [],
   "source": [
    "class SupResponse(BaseModel):\n",
    "    solution_1: str\n",
    "    critique_1: str\n",
    "    solution_2: str\n",
    "    critique_2: str\n",
    "\n",
    "\n",
    "class PPOResponse(BaseModel):\n",
    "    solution_1: str\n",
    "    solution_2: str"
   ]
  },
  {
   "cell_type": "code",
   "execution_count": 55,
   "metadata": {},
   "outputs": [],
   "source": [
    "def get_augmented_data(problem, mode):\n",
    "    \"\"\"Get either the sup or ppo_sampled data for a given mode\n",
    "\n",
    "    :param dict problem: the problem to get the augmented data from, in the form of a dictionary with keys 'problem', 'level', 'type', 'solution'\n",
    "    :param str mode: the mode to get the augmented data from, either 'sup' or 'ppo_sampled'\n",
    "    :return: a tuple of two dictionaries, each containing the augmented data. If mode is 'sup', the dictionaries will contain the keys 'problem', 'level', 'type', 'solution', 'critique'. If mode is 'ppo_sampled', the dictionaries will contain the keys 'problem', 'level', 'type', 'solution'.\n",
    "    \"\"\"\n",
    "    client = OpenAI(api_key=api_key)\n",
    "    if mode == 'sup':\n",
    "        completion = client.beta.chat.completions.parse(\n",
    "            model=\"gpt-4o-mini-2024-07-18\",\n",
    "            messages=[\n",
    "                {\"role\": \"system\", \"content\": f\"You are given the following mathematical problem:\\n {problem['problem']} \\n\\n A reference solution is as follows:\\n {problem['solution']}\\n\\n\"},\n",
    "                {\"role\": \"user\", \"content\": \"Modify the reference solution into two wrong ones; remember to enclose your final answer in $\\\\boxed{}$. Make it seem as if a student wrote those wrong solutions. Finally, generate a critique to each generated wrong solution.\"},\n",
    "                {\"role\": \"system\", \"content\": \"Limit the critiques to 1 sentence. Write the answer in LaTeX format.\"},\n",
    "                ],\n",
    "                response_format=SupResponse,\n",
    "            )\n",
    "        sample_1 = {\n",
    "            'problem': problem['problem'],\n",
    "            'level': problem['level'],\n",
    "            'type': problem['type'],\n",
    "            'solution': completion.choices[0].message.parsed.solution_1,\n",
    "            'critique': completion.choices[0].message.parsed.critique_1\n",
    "        }\n",
    "        sample_2 = {\n",
    "            'problem': problem['problem'],\n",
    "            'level': problem['level'],\n",
    "            'type': problem['type'],\n",
    "            'solution': completion.choices[0].message.parsed.solution_2,\n",
    "            'critique': completion.choices[0].message.parsed.critique_2\n",
    "        }\n",
    "        return sample_1, sample_2\n",
    "    elif mode == 'ppo_sampled':\n",
    "        completion = client.beta.chat.completions.parse(\n",
    "            model=\"gpt-4o-mini-2024-07-18\",\n",
    "            messages=[\n",
    "                {\"role\": \"system\", \"content\": f\"You are given the following mathematical problem:\\n {problem['problem']} \\n\\n A reference solution is as follows:\\n {problem['solution']}\\n\\n\"},\n",
    "                {\"role\": \"user\", \"content\": \"Modify the reference solution into two wrong ones; remember to enclose your final answer in $\\\\boxed{}$. Make it seem as if a student wrote those wrong solutions.\"},\n",
    "                {\"role\": \"system\", \"content\": \"Ensure that the generated solutions are wrong; you do not have to explain why they were wrong. Write the answer in LaTeX format.\"},\n",
    "            ],\n",
    "            response_format=PPOResponse,\n",
    "        )\n",
    "        sample_1 = {\n",
    "            'problem': problem['problem'],\n",
    "            'level': problem['level'],\n",
    "            'type': problem['type'],\n",
    "            'solution': completion.choices[0].message.parsed.solution_1,\n",
    "            'correct_solution': problem['solution']\n",
    "        }\n",
    "        sample_2 = {\n",
    "            'problem': problem['problem'],\n",
    "            'level': problem['level'],\n",
    "            'type': problem['type'],\n",
    "            'solution': completion.choices[0].message.parsed.solution_2,\n",
    "            'correct_solution': problem['solution']\n",
    "        }\n",
    "        return sample_1, sample_2"
   ]
  },
  {
   "cell_type": "code",
   "execution_count": 62,
   "metadata": {},
   "outputs": [],
   "source": [
    "def format_sample(sample, mode):\n",
    "    if mode == 'sup':\n",
    "        return {\n",
    "            \"text\": \" ||| \".join([sample['problem'], sample['solution']]),\n",
    "            \"summary\": sample['critique'],\n",
    "            \"level\": sample['level'],\n",
    "            \"type\": sample['type']\n",
    "        }\n",
    "    elif mode == 'ppo_sampled':\n",
    "        return {\n",
    "            \"text\": \" ||| \".join([sample['problem'], sample['solution']]),\n",
    "            \"summary\": sample['correct_solution'],\n",
    "            \"level\": sample['level'],\n",
    "            \"type\": sample['type']\n",
    "        }"
   ]
  },
  {
   "cell_type": "code",
   "execution_count": 69,
   "metadata": {},
   "outputs": [],
   "source": [
    "# each combination of subset_mode has a jsonl file\n",
    "# write the augmented data there\n",
    "for subject, mode, subset in product(['algebra', 'counting_and_probability', 'number_theory'], ['sup', 'ppo_sampled'], ['train', 'test', 'dev']):\n",
    "    # if MATH_RL4F/{subject}/{subset}_{mode}.jsonl does not exist, create it\n",
    "    # if not os.path.exists(f'MATH_RL4F/{subject}/{subset}_{mode}.jsonl'):\n",
    "    with open(f'MATH_RL4F/{subject}/{subset}_{mode}.jsonl', 'w') as f:\n",
    "        pass\n",
    "    count = 0\n",
    "    for problem in MATH_SPLIT[subject][f'{subset}_{mode}']:\n",
    "        sample_1, sample_2 = get_augmented_data(problem, mode)\n",
    "        with open(f'MATH_RL4F/{subject}/{subset}_{mode}.jsonl', 'a') as f:\n",
    "            f.write(json.dumps(format_sample(sample_1, mode)) + '\\n')\n",
    "            f.write(json.dumps(format_sample(sample_2, mode)) + '\\n')\n",
    "        count += 1\n",
    "        if count == 3:\n",
    "            break"
   ]
  },
  {
   "cell_type": "markdown",
   "metadata": {},
   "source": [
    "## Examples for data augmentation"
   ]
  },
  {
   "cell_type": "code",
   "execution_count": 72,
   "metadata": {},
   "outputs": [],
   "source": [
    "problem = MATH['prealgebra']['train'][0]\n",
    "\n",
    "client = OpenAI(api_key=api_key)\n",
    "\n",
    "sup_completion = client.beta.chat.completions.parse(\n",
    "    model=\"gpt-4o-2024-11-20\",\n",
    "    messages=[\n",
    "        {\"role\": \"system\", \"content\": f\"You are given the following mathematical problem:\\n {problem['problem']} \\n\\n A reference solution is as follows:\\n {problem['solution']}\\n\\n\"},\n",
    "        {\"role\": \"user\", \"content\": \"Modify the reference solution into two wrong ones; remember to enclose your final answer in $\\\\boxed{}$. Make it seem as if a student wrote those wrong solutions. Finally, generate a critique to each generated wrong solution.\"},\n",
    "        {\"role\": \"system\", \"content\": \"Limit the critiques to 1 sentence. Write the answer in LaTeX format.\"},\n",
    "    ],\n",
    "    response_format=SupResponse,\n",
    ")\n",
    "ppo_completion = client.beta.chat.completions.parse(\n",
    "    model=\"gpt-4o-2024-11-20\",\n",
    "    messages=[\n",
    "        {\"role\": \"system\", \"content\": f\"You are given the following mathematical problem:\\n {problem['problem']} \\n\\n A reference solution is as follows:\\n {problem['solution']}\\n\\n\"},\n",
    "        {\"role\": \"user\", \"content\": \"Modify the reference solution into two wrong ones; remember to enclose your final answer in $\\\\boxed{}$. Make it seem as if a student wrote those wrong solutions.\"},\n",
    "        {\"role\": \"system\", \"content\": \"Ensure that the generated solutions are wrong; you do not have to explain why they were wrong. Write the answer in LaTeX format.\"},\n",
    "    ],\n",
    "    response_format=PPOResponse,\n",
    ")\n",
    "\n",
    "\n",
    "sup_response = sup_completion.choices[0].message.parsed\n",
    "ppo_response = ppo_completion.choices[0].message.parsed"
   ]
  },
  {
   "cell_type": "code",
   "execution_count": 73,
   "metadata": {},
   "outputs": [
    {
     "name": "stdout",
     "output_type": "stream",
     "text": [
      "The problem statement:\n",
      "Simplify $((5p+1)-2p\\cdot4)(3)+(4-1\\div3)(6p-9)$ to a much simpler expression of the form $ap-b$ , where $a$ and $b$ are positive integers.\n",
      "The solution:\n",
      "We need to simplify the given expression. Let's start by simplifying the inside of the parenthesis on the left part of the expression. \\begin{align*}\n",
      "((5p+1)&-2p\\cdot4)(3)+(4-1\\div3)(6p-9)\\\\\n",
      "&=(5p+1-8p)(3)+(4-1\\div3)(6p-9)\\\\\n",
      "&=(-3p+1)(3)+(4-1\\div3)(6p-9)\n",
      "\\end{align*} Next we can distribute the 3 to get $$3\\cdot(-3p)+3\\cdot1+(4-1\\div3)(6p-9),$$ which equals $-9p+3+(4-1\\div3)(6p-9)$ . The left part looks simplified so now we can focus on the right part. Let's subtract what's in the left parentheses then distribute. \\begin{align*}\n",
      "-9p+3+(4-1\\div3)(6p-9)&=-9p+3+(\\frac{4\\cdot3}{3}-\\frac{1}{3})(6p-9)\\\\\n",
      "&=-9p+3+\\frac{11}{3}(6p-9)\\\\\n",
      "&=-9p+3+\\frac{11}{3}\\cdot6p-\\frac{11}{3}\\cdot9\\\\\n",
      "&=-9p+3+\\frac{11\\cdot6p}{3}-\\frac{11\\cdot9}{3}\\\\\n",
      "&=-9p+3+\\frac{66p}{3}-\\frac{99}{3}\\\\\n",
      "&=-9p+3+\\frac{3\\cdot22p}{3}-\\frac{3\\cdot33}{3}\\\\\n",
      "&=-9p+3+22p-33\\\\\n",
      "&=22p-9p+3-33\\\\\n",
      "&=\\boxed{13p-30}\\\\\n",
      "\\end{align*}\n",
      "================================================================================\n",
      "Supervised learning data:\n",
      "The generated wrong solution 1:\n",
      "Let's simplify the given expression step by step. Starting with the left-hand side:\n",
      "\\begin{align*}\n",
      "((5p+1)-2p\\cdot4)(3) + (4 - 1\\div3)(6p-9) & = (5p+1-8p)(3) + (4 - 1\\div3)(6p-9) \\\\\n",
      "& = (-3p+1)(3) + (4 - \\frac{1}{3})(6p-9).\n",
      "\\end{align*}\n",
      "Now simplify and distribute on the left part:\n",
      "\\begin{align*}\n",
      "(-3p+1)(3) + (4 - \\frac{1}{3})(6p-9) & = -9p + 3 + (4 \\cdot 6p - \\frac{1}{3} \\cdot 6p - 4 \\cdot 9 + \\frac{1}{3} \\cdot 9) \\\\\n",
      "& = -9p + 3 + 24p - 2p - 36 + \\frac{3}{3} \\\\\n",
      "& = -9p + 3 + 22p - 36 + 1 \\\\\n",
      "& = 22p - 9p + 3 - 36 \\\\\n",
      "& = 13p - 33.\n",
      "\\end{align*}\n",
      "So, the final answer is $\\boxed{13p-33}$.\n",
      "The critique:\n",
      "The error occurs in the handling and splitting up of the terms within the fractions; the terms aren't distributed as per standard algebraic rules.\n",
      "The generated wrong solution 2:\n",
      "Work on simplifying step by step:\n",
      "\\begin{align*}\n",
      "((5p+1)-2p\\cdot4)(3) + (4 - 1\\div3)(6p-9) & = (5p+1-8p)(3) + (4 - \\frac{1}{3})(6p-9) \\\\\n",
      "& = (-3p+1)(3) + (4 - \\frac{1}{3})(6p - 3 \\cdot 3) \\\\\n",
      "& = -9p + 3 + 4 \\cdot 6p - \\frac{1}{3} \\cdot 6 \\cdot 6 - \\frac{1}{3}9 \\\\\n",
      "& = -9p + 3 + 24p - 12 - 3 \\\\\n",
      "& = 24p - 21p + 3 - 6 \\\\\n",
      "& = 3p - 3.\n",
      "\\end{align*}\n",
      "Final answer is $\\boxed{3p-3}$.\n",
      "The critique:\n",
      "The miscalculated combining of constants and coefficients introduces faults to the term summations, leading to the incorrect output.\n",
      "================================================================================\n",
      "PPO data:\n",
      "The generated wrong solution 1:\n",
      "\\begin{align*}\n",
      "((5p+1)&-2p\\cdot4)(3)+(4-1\\div3)(6p-9)\\\\\n",
      "&=(5p+1-8p)(3)+(4-\\frac{1}{3})(6p-9)\\\\\n",
      "&=(-3p+1)(3)+\\left(4-\\frac{1}{3}\\right)(6p-9)\\\\\n",
      "&=(-9p+3)+\\left(\\frac{11}{3}\\right)(6p+9)\\\\\n",
      "&=-9p+3+\\frac{66p}{3}+\\frac{99}{3}\\\\\n",
      "&=-9p+3+22p+33\\\\\n",
      "&=22p-9p+3+33\\\\\n",
      "&=\\boxed{13p+36}\n",
      "\\end{align*}\n",
      "The generated wrong solution 2:\n",
      "\\begin{align*}\n",
      "((5p+1)&-2p\\cdot4)(3)+(4-1\\div3)(6p-9)\\\\\n",
      "&=(5p+1-8p)(3)+(4-\\frac{1}{3})(6p-9)\\\\\n",
      "&=(-3p+1)(3)+\\left(4-\\frac{1}{3}\\right)(6p-9)\\\\\n",
      "&=(-9p+3)+\\left(\\frac{10}{3}\\right)(6p-9)\\\\\n",
      "&=-9p+3+\\frac{60p}{3}-\\frac{90}{3}\\\\\n",
      "&=-9p+3+20p-30\\\\\n",
      "&=20p-9p+3-30\\\\\n",
      "&=\\boxed{11p-27}\n",
      "\\end{align*}\n"
     ]
    }
   ],
   "source": [
    "print(f\"The problem statement:\\n{problem['problem']}\")\n",
    "print(f\"The solution:\\n{problem['solution']}\")\n",
    "print(\"=\"*80)\n",
    "print(\"Supervised learning data:\")\n",
    "print(f\"The generated wrong solution 1:\\n{sup_response.solution_1}\")\n",
    "print(f\"The critique:\\n{sup_response.critique_1}\")\n",
    "print(f\"The generated wrong solution 2:\\n{sup_response.solution_2}\")\n",
    "print(f\"The critique:\\n{sup_response.critique_2}\")\n",
    "print(\"=\"*80)\n",
    "print(\"PPO data:\")\n",
    "print(f\"The generated wrong solution 1:\\n{ppo_response.solution_1}\")\n",
    "print(f\"The generated wrong solution 2:\\n{ppo_response.solution_2}\")"
   ]
  }
 ],
 "metadata": {
  "kernelspec": {
   "display_name": "general",
   "language": "python",
   "name": "python3"
  },
  "language_info": {
   "codemirror_mode": {
    "name": "ipython",
    "version": 3
   },
   "file_extension": ".py",
   "mimetype": "text/x-python",
   "name": "python",
   "nbconvert_exporter": "python",
   "pygments_lexer": "ipython3",
   "version": "3.9.21"
  }
 },
 "nbformat": 4,
 "nbformat_minor": 2
}
